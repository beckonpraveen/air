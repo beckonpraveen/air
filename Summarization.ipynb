{
 "cells": [
  {
   "cell_type": "code",
   "execution_count": 1,
   "metadata": {},
   "outputs": [
    {
     "name": "stdout",
     "output_type": "stream",
     "text": [
      "Sabarimala outfit holds namajapa protest days ahead of Lok Sabha polls in Kerala\n",
      "Hindu outfits earlier protested against the entry women of menstruating age into the Sabarimala temple.(Image for representation) (Photo: PTI)\n",
      "With Lok Sabha polls just nine days away in Kerala, activists of an umbrella organisation of various Hindu outfits on Saturday (April 13) staged a dharna in Thiruvananthapuram to protest the alleged mass imposition of cases against them in connection with the Sabarimala agitation.\n",
      "'Sabarimala Karma Samithi', which had spearheaded the agitation against the Communist Party of India(Marxist)-led Left Democratic Front (LDF) government's decision to implement the Supreme Court September 28 verdict permitting women of all age groups into the shrine, alleged that their members had been implicated in various criminal cases \"unlawfully\".\n",
      "Braving the scorching heat, a number of activists, including women, squatted on the road in front of the Secretariat, and held 'namajapa' protest by chanting Lord Ayyappa hymns near the god's picture.\n",
      "The outfit's protest, days before the April 23 Lok Sabha polls, rekindles the memories of the Sabarimala agitation, which had seen frenzied protests by devotees across the state and the alleged police action against them.\n",
      "The parliamentary election in Kerala will be held in a single phase on April 23.\n",
      "Addressing the gathering, Swami Chidanandapuri of the Kolathur Adavaitha Ashram urged the Hindu community not to forget the \"barbaric acts\" of the police against the devotees during the Sabarimala protests.\n",
      "\"The Karma Samithi will continue to raise the Sabarimala issue. It will not be a violation of the model code of conduct as the outfit is neither a political party nor a political movement,\" Chidanandapuri, who is also the chief patron of the Samithi, said.\n",
      "The seer said the left government had no moral right to continue in the office in the wake of the action taken against the Ayyappa devotees.\n",
      "Samithi leader K P Sasikala, who was arrested during the protests, said the outfit would extend support to those who had stood by them and the devotees during the stir.\n",
      "Hitting at the state police for allegedly registering \"false cases\" against the Samithi activists and devotees, former DGP T P Senkumar said the police should act in accordance with the Indian Penal Code and CrPC (Code of Criminal Procedure).\n",
      "\"They should implement the rule of law and not the law of Chief Minister Pinarayi Vijayan. Don't try to scare anyone by registering false cases,\" Senkumar, national vice-president of Sabarimala Action Council, said.\n",
      "Sources in the ruling LDF said the party would petition the Election Commission against the dharna staged by the right-wing outfit.\n",
      "Kerala last year had for days witnessed a series of violent protests by various groups of devotees and Hindu outfits demanding that the sanctity of the temple rituals be protected.\n",
      "On September 28 last year, a five-judge Constitution bench had lifted the ban on the entry of women of menstrual age into the shrine.\n"
     ]
    }
   ],
   "source": [
    "from newsplease import NewsPlease\n",
    "article = NewsPlease.from_url('https://www.indiatoday.in/elections/lok-sabha-2019/story/sabarimala-outfit-holds-namajapa-protest-in-kerala-1501155-2019-04-13')\n",
    "print(article.title)\n",
    "print(article.text)"
   ]
  },
  {
   "cell_type": "code",
   "execution_count": 2,
   "metadata": {},
   "outputs": [
    {
     "name": "stdout",
     "output_type": "stream",
     "text": [
      "Hindu outfits earlier protested against the entry women of menstruating age into the Sabarimala temple.(Image for representation) (Photo: PTI)\n",
      "With Lok Sabha polls just nine days away in Kerala, activists of an umbrella organisation of various Hindu outfits on Saturday (April 13) staged a dharna in Thiruvananthapuram to protest the alleged mass imposition of cases against them in connection with the Sabarimala agitation.\n",
      "'Sabarimala Karma Samithi', which had spearheaded the agitation against the Communist Party of India(Marxist)-led Left Democratic Front (LDF) government's decision to implement the Supreme Court September 28 verdict permitting women of all age groups into the shrine, alleged that their members had been implicated in various criminal cases \"unlawfully\".\n",
      "Braving the scorching heat, a number of activists, including women, squatted on the road in front of the Secretariat, and held 'namajapa' protest by chanting Lord Ayyappa hymns near the god's picture.\n",
      "The outfit's protest, days before the April 23 Lok Sabha polls, rekindles the memories of the Sabarimala agitation, which had seen frenzied protests by devotees across the state and the alleged police action against them.\n",
      "The parliamentary election in Kerala will be held in a single phase on April 23.\n",
      "Addressing the gathering, Swami Chidanandapuri of the Kolathur Adavaitha Ashram urged the Hindu community not to forget the \"barbaric acts\" of the police against the devotees during the Sabarimala protests.\n",
      "\"The Karma Samithi will continue to raise the Sabarimala issue. It will not be a violation of the model code of conduct as the outfit is neither a political party nor a political movement,\" Chidanandapuri, who is also the chief patron of the Samithi, said.\n",
      "The seer said the left government had no moral right to continue in the office in the wake of the action taken against the Ayyappa devotees.\n",
      "Samithi leader K P Sasikala, who was arrested during the protests, said the outfit would extend support to those who had stood by them and the devotees during the stir.\n",
      "Hitting at the state police for allegedly registering \"false cases\" against the Samithi activists and devotees, former DGP T P Senkumar said the police should act in accordance with the Indian Penal Code and CrPC (Code of Criminal Procedure).\n",
      "\"They should implement the rule of law and not the law of Chief Minister Pinarayi Vijayan. Don't try to scare anyone by registering false cases,\" Senkumar, national vice-president of Sabarimala Action Council, said.\n",
      "Sources in the ruling LDF said the party would petition the Election Commission against the dharna staged by the right-wing outfit.\n",
      "Kerala last year had for days witnessed a series of violent protests by various groups of devotees and Hindu outfits demanding that the sanctity of the temple rituals be protected.\n",
      "On September 28 last year, a five-judge Constitution bench had lifted the ban on the entry of women of menstrual age into the shrine.\n",
      "2019-04-13 17:06:00\n"
     ]
    }
   ],
   "source": [
    "text = article.text\n",
    "print(text)\n",
    "print(article.date_publish)"
   ]
  },
  {
   "cell_type": "code",
   "execution_count": 3,
   "metadata": {},
   "outputs": [],
   "source": [
    "from gensim.summarization.summarizer import summarize"
   ]
  },
  {
   "cell_type": "code",
   "execution_count": 4,
   "metadata": {},
   "outputs": [
    {
     "name": "stdout",
     "output_type": "stream",
     "text": [
      "With Lok Sabha polls just nine days away in Kerala, activists of an umbrella organisation of various Hindu outfits on Saturday (April 13) staged a dharna in Thiruvananthapuram to protest the alleged mass imposition of cases against them in connection with the Sabarimala agitation.\n",
      "'Sabarimala Karma Samithi', which had spearheaded the agitation against the Communist Party of India(Marxist)-led Left Democratic Front (LDF) government's decision to implement the Supreme Court September 28 verdict permitting women of all age groups into the shrine, alleged that their members had been implicated in various criminal cases \"unlawfully\".\n",
      "The outfit's protest, days before the April 23 Lok Sabha polls, rekindles the memories of the Sabarimala agitation, which had seen frenzied protests by devotees across the state and the alleged police action against them.\n"
     ]
    }
   ],
   "source": [
    "gensim_summary = summarize(text, ratio=0.2, word_count=None, split=False)\n",
    "print(gensim_summary)"
   ]
  },
  {
   "cell_type": "code",
   "execution_count": 5,
   "metadata": {},
   "outputs": [],
   "source": [
    "#Spacy Summary\n",
    "import spacy\n",
    "from spacy import displacy\n",
    "from collections import Counter\n",
    "import en_core_web_lg\n",
    "import en_core_web_sm\n",
    "nlp = en_core_web_lg.load()"
   ]
  },
  {
   "cell_type": "code",
   "execution_count": 6,
   "metadata": {},
   "outputs": [],
   "source": [
    "import spacy\n",
    "from spacy.lang.en.stop_words import STOP_WORDS\n",
    "from string import punctuation\n",
    "stopwords = list(STOP_WORDS)\n",
    "\n",
    "def summarise_event(doc):\n",
    "    mytokens = [token.text for token in doc]\n",
    "    word_frequencies = {}\n",
    "    for word in doc:\n",
    "        if word.text not in stopwords:\n",
    "                if word.text not in word_frequencies.keys():\n",
    "                    word_frequencies[word.text] = 1\n",
    "                else:\n",
    "                    word_frequencies[word.text] += 1\n",
    "\n",
    "    # print(word_frequencies)\n",
    "    maximum_frequency = max(word_frequencies.values())\n",
    "    for word in word_frequencies.keys():\n",
    "            word_frequencies[word] = (word_frequencies[word]/maximum_frequency)\n",
    "    # word_frequencies\n",
    "    sentence_list = [ sentence for sentence in doc.sents ]\n",
    "    sentence_scores = {}\n",
    "    for sent in sentence_list:\n",
    "            for word in sent:\n",
    "                if word.text.lower() in word_frequencies.keys():\n",
    "                    if len(sent.text.split(' ')) < 30:\n",
    "                        if sent not in sentence_scores.keys():\n",
    "                            sentence_scores[sent] = word_frequencies[word.text.lower()]\n",
    "                        else:\n",
    "                            sentence_scores[sent] += word_frequencies[word.text.lower()]\n",
    "    # print(sentence_scores)\n",
    "    from heapq import nlargest\n",
    "    summarized_sentences = nlargest(3, sentence_scores, key=sentence_scores.get)\n",
    "    # summarized_sentences\n",
    "    # for w in summarized_sentences:\n",
    "    #     print(w.text)\n",
    "    final_sentences = [ w.text for w in summarized_sentences ]\n",
    "    summary = ' '.join(final_sentences)\n",
    "    return summary"
   ]
  },
  {
   "cell_type": "code",
   "execution_count": 7,
   "metadata": {},
   "outputs": [],
   "source": [
    "doc = nlp(text)"
   ]
  },
  {
   "cell_type": "code",
   "execution_count": 8,
   "metadata": {},
   "outputs": [
    {
     "name": "stdout",
     "output_type": "stream",
     "text": [
      "Don't try to scare anyone by registering false cases,\" Senkumar, national vice-president of Sabarimala Action Council, said. On September 28 last year, a five-judge Constitution bench had lifted the ban on the entry of women of menstrual age into the shrine. The seer said the left government had no moral right to continue in the office in the wake of the action taken against the Ayyappa devotees.\n"
     ]
    }
   ],
   "source": [
    "spacy_summary = summarise_event(doc)\n",
    "spacy_summary = spacy_summary.replace('\\r', '').replace('\\n', '')\n",
    "print(spacy_summary)"
   ]
  },
  {
   "cell_type": "code",
   "execution_count": 234,
   "metadata": {},
   "outputs": [],
   "source": [
    "summary = \"\"\"On 12 April, BKU affiliated farmers held a demonstration in front of the District Administrative Complex in Bathinda City (Punjab) demanding that farmers be allowed to start paddy cultivation from June 5\"\"\"\n",
    "\n",
    "\n"
   ]
  },
  {
   "cell_type": "code",
   "execution_count": 235,
   "metadata": {},
   "outputs": [],
   "source": [
    "lines = summary.splitlines()"
   ]
  },
  {
   "cell_type": "code",
   "execution_count": 236,
   "metadata": {},
   "outputs": [
    {
     "data": {
      "text/plain": [
       "['On 12 April, BKU affiliated farmers held a demonstration in front of the District Administrative Complex in Bathinda City (Punjab) demanding that farmers be allowed to start paddy cultivation from June 5']"
      ]
     },
     "execution_count": 236,
     "metadata": {},
     "output_type": "execute_result"
    }
   ],
   "source": [
    "lines"
   ]
  },
  {
   "cell_type": "code",
   "execution_count": 240,
   "metadata": {},
   "outputs": [],
   "source": [
    "from difflib import SequenceMatcher\n",
    "\n",
    "def similar(a, b):\n",
    "    return SequenceMatcher(None, a, b).ratio()"
   ]
  },
  {
   "cell_type": "code",
   "execution_count": 241,
   "metadata": {},
   "outputs": [
    {
     "data": {
      "text/plain": [
       "0.8"
      ]
     },
     "execution_count": 241,
     "metadata": {},
     "output_type": "execute_result"
    }
   ],
   "source": [
    "similar(\"Apple\",\"Appel\")"
   ]
  },
  {
   "cell_type": "code",
   "execution_count": 243,
   "metadata": {},
   "outputs": [
    {
     "data": {
      "text/plain": [
       "0.631578947368421"
      ]
     },
     "execution_count": 243,
     "metadata": {},
     "output_type": "execute_result"
    }
   ],
   "source": [
    "similar(\"Police\",\"Police Forces\")"
   ]
  },
  {
   "cell_type": "code",
   "execution_count": null,
   "metadata": {},
   "outputs": [],
   "source": []
  }
 ],
 "metadata": {
  "kernelspec": {
   "display_name": "Python 3",
   "language": "python",
   "name": "python3"
  },
  "language_info": {
   "codemirror_mode": {
    "name": "ipython",
    "version": 3
   },
   "file_extension": ".py",
   "mimetype": "text/x-python",
   "name": "python",
   "nbconvert_exporter": "python",
   "pygments_lexer": "ipython3",
   "version": "3.7.1"
  }
 },
 "nbformat": 4,
 "nbformat_minor": 2
}
