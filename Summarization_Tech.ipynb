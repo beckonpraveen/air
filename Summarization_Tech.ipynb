{
 "cells": [
  {
   "cell_type": "code",
   "execution_count": 1,
   "metadata": {},
   "outputs": [],
   "source": [
    "\n",
    "from __future__ import absolute_import\n",
    "from __future__ import division, print_function, unicode_literals\n",
    "\n",
    "from sumy.parsers.html import HtmlParser\n",
    "from sumy.parsers.plaintext import PlaintextParser\n",
    "from sumy.nlp.tokenizers import Tokenizer\n",
    "from sumy.summarizers.lsa import LsaSummarizer as Summarizer_1\n",
    "from sumy.summarizers.lex_rank import LexRankSummarizer as Summarizer_2\n",
    "from sumy.nlp.stemmers import Stemmer\n",
    "from sumy.utils import get_stop_words\n"
   ]
  },
  {
   "cell_type": "code",
   "execution_count": 2,
   "metadata": {},
   "outputs": [
    {
     "name": "stdout",
     "output_type": "stream",
     "text": [
      "With Lok Sabha polls just nine days away in Kerala, activists of an umbrella organisation of various Hindu outfits on Saturday (April 13) staged a dharna in Thiruvananthapuram to protest the alleged mass imposition of cases against them in connection with the Sabarimala agitation.\n",
      "'Sabarimala Karma Samithi', which had spearheaded the agitation against the Communist Party of India(Marxist)-led Left Democratic Front (LDF) government's decision to implement the Supreme Court September 28 verdict permitting women of all age groups into the shrine, alleged that their members had been implicated in various criminal cases \"unlawfully\".\n",
      "Braving the scorching heat, a number of activists, including women, squatted on the road in front of the Secretariat, and held 'namajapa' protest by chanting Lord Ayyappa hymns near the god's picture.\n"
     ]
    }
   ],
   "source": [
    "LANGUAGE = \"english\"\n",
    "SENTENCES_COUNT = 3\n",
    "\n",
    "\n",
    "if __name__ == \"__main__\":\n",
    "    url = \"https://www.indiatoday.in/elections/lok-sabha-2019/story/sabarimala-outfit-holds-namajapa-protest-in-kerala-1501155-2019-04-13\"\n",
    "    parser = HtmlParser.from_url(url, Tokenizer(LANGUAGE))\n",
    "    # or for plain text files\n",
    "    # parser = PlaintextParser.from_file(\"document.txt\", Tokenizer(LANGUAGE))\n",
    "    stemmer = Stemmer(LANGUAGE)\n",
    "\n",
    "    summarizer = Summarizer_1(stemmer)\n",
    "    summarizer.stop_words = get_stop_words(LANGUAGE)\n",
    "\n",
    "    for sentence in summarizer(parser.document, SENTENCES_COUNT):\n",
    "        print(sentence)\n"
   ]
  },
  {
   "cell_type": "code",
   "execution_count": 3,
   "metadata": {},
   "outputs": [
    {
     "name": "stdout",
     "output_type": "stream",
     "text": [
      "With Lok Sabha polls just nine days away in Kerala, activists of an umbrella organisation of various Hindu outfits on Saturday (April 13) staged a dharna in Thiruvananthapuram to protest the alleged mass imposition of cases against them in connection with the Sabarimala agitation.\n",
      "The outfit's protest, days before the April 23 Lok Sabha polls, rekindles the memories of the Sabarimala agitation, which had seen frenzied protests by devotees across the state and the alleged police action against them.\n",
      "Hitting at the state police for allegedly registering \"false cases\" against the Samithi activists and devotees, former DGP T P Senkumar said the police should act in accordance with the Indian Penal Code and CrPC (Code of Criminal Procedure).\n"
     ]
    }
   ],
   "source": [
    "LANGUAGE = \"english\"\n",
    "SENTENCES_COUNT = 3\n",
    "\n",
    "\n",
    "if __name__ == \"__main__\":\n",
    "    url = \"https://www.indiatoday.in/elections/lok-sabha-2019/story/sabarimala-outfit-holds-namajapa-protest-in-kerala-1501155-2019-04-13\"\n",
    "    parser = HtmlParser.from_url(url, Tokenizer(LANGUAGE))\n",
    "    # or for plain text files\n",
    "    # parser = PlaintextParser.from_file(\"document.txt\", Tokenizer(LANGUAGE))\n",
    "    stemmer = Stemmer(LANGUAGE)\n",
    "\n",
    "    summarizer = Summarizer_2(stemmer)\n",
    "    summarizer.stop_words = get_stop_words(LANGUAGE)\n",
    "\n",
    "    for sentence in summarizer(parser.document, SENTENCES_COUNT):\n",
    "        print(sentence)"
   ]
  },
  {
   "cell_type": "code",
   "execution_count": null,
   "metadata": {},
   "outputs": [],
   "source": []
  },
  {
   "cell_type": "code",
   "execution_count": null,
   "metadata": {},
   "outputs": [],
   "source": []
  },
  {
   "cell_type": "code",
   "execution_count": null,
   "metadata": {},
   "outputs": [],
   "source": []
  }
 ],
 "metadata": {
  "kernelspec": {
   "display_name": "Python 3",
   "language": "python",
   "name": "python3"
  },
  "language_info": {
   "codemirror_mode": {
    "name": "ipython",
    "version": 3
   },
   "file_extension": ".py",
   "mimetype": "text/x-python",
   "name": "python",
   "nbconvert_exporter": "python",
   "pygments_lexer": "ipython3",
   "version": "3.7.2"
  }
 },
 "nbformat": 4,
 "nbformat_minor": 2
}
