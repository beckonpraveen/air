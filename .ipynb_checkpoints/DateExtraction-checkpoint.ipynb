{
 "cells": [
  {
   "cell_type": "code",
   "execution_count": 6,
   "metadata": {},
   "outputs": [
    {
     "name": "stdout",
     "output_type": "stream",
     "text": [
      "nine days\n",
      "[]\n",
      "days\n",
      "[]\n",
      "( April ) Saturday\n",
      "[]\n",
      "23 April\n",
      "[]\n",
      "28 year September\n",
      "[]\n",
      "January 4th, 2017 at 8:00pm\n",
      "[]\n"
     ]
    }
   ],
   "source": [
    "import datefinder\n",
    "possible_dates = [\"nine days\",\"days\",\"( April ) Saturday\",\"23 April\",\"28 year September\",\"January 4th, 2017 at 8:00pm\"]\n",
    "for date_str in possible_dates:\n",
    "    dates = list(datefinder.find_dates(\"date_str\"))\n",
    "    print(date_str)\n",
    "    print(dates)\n",
    "#     if(len(dates) > 0):\n",
    "#         value = dates[0].strftime('%m/%d/%Y');"
   ]
  },
  {
   "cell_type": "code",
   "execution_count": null,
   "metadata": {},
   "outputs": [],
   "source": []
  }
 ],
 "metadata": {
  "kernelspec": {
   "display_name": "Python 3",
   "language": "python",
   "name": "python3"
  },
  "language_info": {
   "codemirror_mode": {
    "name": "ipython",
    "version": 3
   },
   "file_extension": ".py",
   "mimetype": "text/x-python",
   "name": "python",
   "nbconvert_exporter": "python",
   "pygments_lexer": "ipython3",
   "version": "3.7.1"
  }
 },
 "nbformat": 4,
 "nbformat_minor": 2
}
