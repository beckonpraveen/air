{
 "cells": [
  {
   "cell_type": "code",
   "execution_count": 9,
   "metadata": {},
   "outputs": [],
   "source": [
    "import sumy\n",
    "from sumy.parsers.plaintext import PlaintextParser\n",
    "from sumy.nlp.tokenizers import Tokenizer\n",
    "from sumy.summarizers.lex_rank import LexRankSummarizer"
   ]
  },
  {
   "cell_type": "code",
   "execution_count": 22,
   "metadata": {},
   "outputs": [],
   "source": [
    "document1 =\"\"\"Massive Protest Infront Of AGP Headquarters In Guwahati Opposing Alliance. Hundreds of AGP leaders and party workers belonging to several movement groups on March 16th 2019 staged a massive protest in front of the Asom Gana Parishad(AGP) headquarters at Ambari in Guwahati opposing the fresh ties between the AGP and BJP in poll-bound Assam.\n",
    "Irate workers further gheraoed the AGP office and shouted slogans showing resentment against the regional party’s decision to contest the ensuing Lok Sabha polls with the incumbent BJP.\n",
    "Meanwhile, as the situation turned ugly the police deployed at the area beefed up security to prevent any ruckus and detained several protesters keeping in view of the law and order situation.\n",
    "“There are people from all over the state belonging to several movement groups opposing the AGP-BJP ties. The AGP had earlier cleared their grounds over the contentious Bill and snapped ties with BJP but the recent development is quite confusing,” said a North East Minority Students Union(NEMSU) member.\n",
    "“The AGP leaders have betrayed the party by taking such a decision for their personal interests. They are power hungry. The same leaders who had broken their relationship with the BJP over the Citizenship Bill have now come into an alliance,” added another irked woman protester.\n",
    "Two months after pulling out over the much-debated Citizenship (Amendment) Bill, 2016, the AGP and BJP are back as allies in poll-bound Assam. The deal was sealed on March 12th, 2019 in Guwahati.\n",
    "The Lok Sabha elections in Assam will be held in three phases on April 11th, 18th and 23rd, 2019. The results of the election will be announced on May 23rd, 2019.\"\"\"\n",
    "\n"
   ]
  },
  {
   "cell_type": "code",
   "execution_count": 23,
   "metadata": {},
   "outputs": [],
   "source": [
    "parser = PlaintextParser.from_string(document1,Tokenizer(\"english\"))"
   ]
  },
  {
   "cell_type": "code",
   "execution_count": 24,
   "metadata": {},
   "outputs": [],
   "source": [
    "summarizer = LexRankSummarizer()\n",
    "#Summarize the document with 2 sentences\n",
    "summary = summarizer(parser.document, 2)"
   ]
  },
  {
   "cell_type": "code",
   "execution_count": 25,
   "metadata": {},
   "outputs": [
    {
     "name": "stdout",
     "output_type": "stream",
     "text": [
      "Hundreds of AGP leaders and party workers belonging to several movement groups on March 16th 2019 staged a massive protest in front of the Asom Gana Parishad(AGP) headquarters at Ambari in Guwahati opposing the fresh ties between the AGP and BJP in poll-bound Assam.\n",
      "The Lok Sabha elections in Assam will be held in three phases on April 11th, 18th and 23rd, 2019.\n"
     ]
    }
   ],
   "source": [
    "for sentence in summary:\n",
    "    print(sentence)"
   ]
  },
  {
   "cell_type": "code",
   "execution_count": 27,
   "metadata": {},
   "outputs": [
    {
     "ename": "NameError",
     "evalue": "name 'date_publish' is not defined",
     "output_type": "error",
     "traceback": [
      "\u001b[0;31m---------------------------------------------------------------------------\u001b[0m",
      "\u001b[0;31mNameError\u001b[0m                                 Traceback (most recent call last)",
      "\u001b[0;32m<ipython-input-27-b6940b9c2178>\u001b[0m in \u001b[0;36m<module>\u001b[0;34m\u001b[0m\n\u001b[1;32m      4\u001b[0m \u001b[0mextractor\u001b[0m \u001b[0;34m=\u001b[0m \u001b[0mMasterExtractor\u001b[0m\u001b[0;34m(\u001b[0m\u001b[0;34m)\u001b[0m\u001b[0;34m\u001b[0m\u001b[0;34m\u001b[0m\u001b[0m\n\u001b[1;32m      5\u001b[0m \u001b[0mtext\u001b[0m \u001b[0;34m=\u001b[0m \u001b[0;34m\"\"\"Mar 3, 2019, 20:08 IST (Representative image) NEW DELHI: A 30-year-old man was shot dead allegedly by two men in Bindapur area of Dwarka district on Friday, police said.  \"The deceased, Imran, was a street vendor. The incident was a fallout of an old dispute between the victim and the accused persons,\" police said.  On Friday, at 6.08pm, officials were informed about an incident of firing at Shukar Bazar road , they said.  On reaching the spot, it was found that the injured was shifted to Deen Dayal Upadhyay hospital where he died during the course of treatment, a senior police officer said.  Imran suffered three gun shot injuries, he said.  Witness told police that Imran was shot by two young persons and one of them was Sumit, who had enmity with the victim, the officer said.  Investigations revealed that in 2013, Imran had attacked a relative of the accused Sumit. The two parties were also fighting a court case in connection with the incident, he said.  The five-year court battle came to an end in September 2018 when Imran was acquitted by the district court concerned, the officer added.  Prima facie, it appears that the two men may have targeted Imran to take revenge over the same issue, he said.  A case has been registered against the accused.  Raids have been conducted in the possible hideouts but he is absconding. Further investigation is underway, police said\"\"\"\u001b[0m\u001b[0;34m\u001b[0m\u001b[0;34m\u001b[0m\u001b[0m\n\u001b[0;32m----> 6\u001b[0;31m \u001b[0mdoc\u001b[0m \u001b[0;34m=\u001b[0m \u001b[0mDocument\u001b[0m\u001b[0;34m.\u001b[0m\u001b[0mfrom_text\u001b[0m\u001b[0;34m(\u001b[0m\u001b[0mtext\u001b[0m\u001b[0;34m,\u001b[0m \u001b[0mdate_publish\u001b[0m\u001b[0;34m)\u001b[0m\u001b[0;34m\u001b[0m\u001b[0;34m\u001b[0m\u001b[0m\n\u001b[0m\u001b[1;32m      7\u001b[0m \u001b[0;31m# or: doc = Document(title, lead, text, date_publish)\u001b[0m\u001b[0;34m\u001b[0m\u001b[0;34m\u001b[0m\u001b[0;34m\u001b[0m\u001b[0m\n\u001b[1;32m      8\u001b[0m \u001b[0mdoc\u001b[0m \u001b[0;34m=\u001b[0m \u001b[0mextractor\u001b[0m\u001b[0;34m.\u001b[0m\u001b[0mparse\u001b[0m\u001b[0;34m(\u001b[0m\u001b[0mdoc\u001b[0m\u001b[0;34m)\u001b[0m\u001b[0;34m\u001b[0m\u001b[0;34m\u001b[0m\u001b[0m\n",
      "\u001b[0;31mNameError\u001b[0m: name 'date_publish' is not defined"
     ]
    }
   ],
   "source": [
    "from Giveme5W1H.extractor.document import Document\n",
    "from Giveme5W1H.extractor.extractor import MasterExtractor\n",
    "\n",
    "extractor = MasterExtractor()\n",
    "text = \"\"\"Mar 3, 2019, 20:08 IST (Representative image) NEW DELHI: A 30-year-old man was shot dead allegedly by two men in Bindapur area of Dwarka district on Friday, police said.  \"The deceased, Imran, was a street vendor. The incident was a fallout of an old dispute between the victim and the accused persons,\" police said.  On Friday, at 6.08pm, officials were informed about an incident of firing at Shukar Bazar road , they said.  On reaching the spot, it was found that the injured was shifted to Deen Dayal Upadhyay hospital where he died during the course of treatment, a senior police officer said.  Imran suffered three gun shot injuries, he said.  Witness told police that Imran was shot by two young persons and one of them was Sumit, who had enmity with the victim, the officer said.  Investigations revealed that in 2013, Imran had attacked a relative of the accused Sumit. The two parties were also fighting a court case in connection with the incident, he said.  The five-year court battle came to an end in September 2018 when Imran was acquitted by the district court concerned, the officer added.  Prima facie, it appears that the two men may have targeted Imran to take revenge over the same issue, he said.  A case has been registered against the accused.  Raids have been conducted in the possible hideouts but he is absconding. Further investigation is underway, police said\"\"\"\n",
    "doc = Document.from_text(text, date_publish)\n",
    "# or: doc = Document(title, lead, text, date_publish) \n",
    "doc = extractor.parse(doc)\n",
    "\n",
    "top_who_answer = doc.get_top_answer('who').get_parts_as_text()\n",
    "print(top_who_answer)"
   ]
  },
  {
   "cell_type": "code",
   "execution_count": null,
   "metadata": {},
   "outputs": [
    {
     "name": "stderr",
     "output_type": "stream",
     "text": [
      "No extractors passed: initializing default configuration.\n",
      "No combinedScorers passed: initializing default configuration.\n",
      "/Users/praveenkumarrajendran/anaconda3/lib/python3.7/site-packages/Giveme5W1H/examples/caches/Nominatim.prickle CACHED: Mazar-i-Sharif: مزار شریف, بلخ, افغانستان\n",
      "Exception in thread Thread-15:\n",
      "Traceback (most recent call last):\n",
      "  File \"/Users/praveenkumarrajendran/anaconda3/lib/python3.7/threading.py\", line 917, in _bootstrap_inner\n",
      "    self.run()\n",
      "  File \"/Users/praveenkumarrajendran/anaconda3/lib/python3.7/site-packages/Giveme5W1H/extractor/extractor.py\", line 20, in run\n",
      "    extractor.process(document)\n",
      "  File \"/Users/praveenkumarrajendran/anaconda3/lib/python3.7/site-packages/Giveme5W1H/extractor/extractors/abs_extractor.py\", line 40, in process\n",
      "    self._extract_candidates(document)\n",
      "  File \"/Users/praveenkumarrajendran/anaconda3/lib/python3.7/site-packages/Giveme5W1H/extractor/extractors/environment_extractor.py\", line 147, in _extract_candidates\n",
      "    self._cache_nominatim.cache(location_string, location)\n",
      "  File \"/Users/praveenkumarrajendran/anaconda3/lib/python3.7/site-packages/Giveme5W1H/extractor/tools/key_value_cache.py\", line 58, in cache\n",
      "    self.persist()\n",
      "  File \"/Users/praveenkumarrajendran/anaconda3/lib/python3.7/site-packages/Giveme5W1H/extractor/tools/key_value_cache.py\", line 43, in persist\n",
      "    with open(self._cache_path, 'wb') as f:\n",
      "FileNotFoundError: [Errno 2] No such file or directory: '/Users/praveenkumarrajendran/anaconda3/lib/python3.7/site-packages/Giveme5W1H/examples/caches/Nominatim.prickle'\n",
      "\n"
     ]
    }
   ],
   "source": [
    "import logging\n",
    "\n",
    "from Giveme5W1H.extractor.document import Document\n",
    "from Giveme5W1H.extractor.extractor import MasterExtractor\n",
    "\n",
    "\"\"\"\n",
    "This is a simple example how to use the extractor in combination with a dict in news-please format.\n",
    "\n",
    "- Nothing is cached\n",
    "\n",
    "\"\"\"\n",
    "\n",
    "# don`t forget to start up core_nlp_host\n",
    "# java -mx4g -cp \"*\" edu.stanford.nlp.pipeline.StanfordCoreNLPServer -port 9000 -timeout 15000\n",
    "\n",
    "\n",
    "title = \"Taliban attacks German consulate in northern Afghan city of Mazar-i-Sharif with truck bomb\"\n",
    "lead = \"The death toll from a powerful Taliban truck bombing at the German consulate in Afghanistan's Mazar-i-Sharif city rose to at least six Friday, with more than 100 others wounded in a major militant assault.\"\n",
    "text = \"\"\"The Taliban said the bombing late Thursday, which tore a massive crater in the road and overturned cars, was a \"revenge attack\" for US air strikes this month in the volatile province of Kunduz that left 32 civilians dead.\n",
    "\n",
    "The explosion, followed by sporadic gunfire, reverberated across the usually tranquil northern city, smashing windows of nearby shops and leaving terrified local residents fleeing for cover.\n",
    "\n",
    "\"The suicide attacker rammed his explosives-laden car into the wall of the German consulate,\" local police chief Sayed Kamal Sadat told AFP.\n",
    "\n",
    "All German staff from the consulate were unharmed, according to the foreign ministry in Berlin.\n",
    "\n",
    "But seven Afghan civilians were killed, including two motorcyclists who were shot dead by German forces close to the consulate after they refused to heed their warning to stop, said deputy police chief Abdul Razaq Qadri.\n",
    "\n",
    "A suspect had also been detained near the diplomatic mission on Friday morning, Qadri added.\n",
    "\n",
    "Local doctor Noor Mohammad Fayez said the city hospitals received six dead bodies, including two killed by bullets.\n",
    "\n",
    "At least 128 others were wounded, some of them critically and many with shrapnel injuries, he added.\n",
    "\n",
    "\"The consulate building has been heavily damaged,\" the German foreign ministry said in a statement. \"Our sympathies go out to the Afghan injured and their families.\"\n",
    "\n",
    "A diplomatic source in Berlin said Foreign Minister Frank-Walter Steinmeier had convened a crisis meeting.\n",
    "\n",
    "\"There was fighting outside and on the grounds of the consulate,\" a ministry spokesman said. \"Afghan security forces and Resolute Support (NATO) forces from Camp Marmal (German base in Mazar-i-Sharif) are on the scene.\"\n",
    "\n",
    "Afghan special forces have cordoned off the consulate, previously well-known as Mazar Hotel, as helicopters flew over the site and ambulances with wailing sirens rushed to the area after the explosion.\n",
    "\n",
    "The carnage underscores worsening insecurity in Afghanistan as Taliban insurgents ramp up nationwide attacks despite repeated government attempts to jump-start stalled peace negotiations.\n",
    "\n",
    "Taliban spokesman Zabihullah Mujahid said the \"martyrdom attack\" on the consulate had left \"tens of invaders\" dead. The insurgents routinely exaggerate battlefield claims.\n",
    "\n",
    "Posting a Google Earth image of the consulate on Twitter, Mujahid said the assault was in retaliation for American air strikes in Kunduz.\n",
    "\n",
    "US forces conceded last week that its air strikes \"very likely\" resulted in civilian casualties in Kunduz, pledging a full investigation into the incident.\n",
    "\n",
    "The strikes killed several children, after a Taliban assault left two American soldiers and three Afghan special forces soldiers dead near Kunduz city.\n",
    "\n",
    "The strikes triggered impassioned protests in Kunduz city, with the victims' relatives parading mutilated bodies of dead children piled into open trucks through the streets.\n",
    "\n",
    "Civilian casualties caused by NATO forces have been one of the most contentious issues in the 15-year campaign against the insurgents, prompting strong public and government criticism.\n",
    "\n",
    "The country's worsening conflict has prompted US forces to step up air strikes to support their struggling Afghan counterparts, fuelling the perception that they are increasingly being drawn back into the conflict.\n",
    "\n",
    "The latest attack in Mazar-i-Sharif comes just two days after a bitter US presidential election.\n",
    "\n",
    "Afghanistan got scarcely a passing mention in the election campaign - even though the situation there will be an urgent matter for the new president.\n",
    "\n",
    "President-elect Donald Trump is set to inherit America's longest war with no end in sight.\n",
    "\"\"\"\n",
    "date_publish = '2016-11-10 07:44:00'\n",
    "\n",
    "if __name__ == '__main__':\n",
    "    # logger setup\n",
    "    log = logging.getLogger('GiveMe5W')\n",
    "    log.setLevel(logging.DEBUG)\n",
    "    sh = logging.StreamHandler()\n",
    "    sh.setLevel(logging.DEBUG)\n",
    "    log.addHandler(sh)\n",
    "\n",
    "    # giveme5w setup - with defaults\n",
    "    extractor = MasterExtractor()\n",
    "    Document()\n",
    "    doc = Document(title, lead, text, date_publish)\n",
    "    doc = extractor.parse(doc)\n",
    "\n",
    "    top_who_answer = doc.get_top_answer('who').get_parts_as_text()\n",
    "    top_what_answer = doc.get_top_answer('what').get_parts_as_text()\n",
    "    top_when_answer = doc.get_top_answer('when').get_parts_as_text()\n",
    "    top_where_answer = doc.get_top_answer('where').get_parts_as_text()\n",
    "    top_why_answer = doc.get_top_answer('why').get_parts_as_text()\n",
    "    top_how_answer = doc.get_top_answer('how').get_parts_as_text()\n",
    "\n",
    "    print(top_who_answer)\n",
    "    print(top_what_answer)\n",
    "    print(top_when_answer)\n",
    "    print(top_where_answer)\n",
    "    print(top_why_answer)\n",
    "    print(top_how_answer)"
   ]
  },
  {
   "cell_type": "code",
   "execution_count": null,
   "metadata": {},
   "outputs": [],
   "source": []
  }
 ],
 "metadata": {
  "kernelspec": {
   "display_name": "Python 3",
   "language": "python",
   "name": "python3"
  },
  "language_info": {
   "codemirror_mode": {
    "name": "ipython",
    "version": 3
   },
   "file_extension": ".py",
   "mimetype": "text/x-python",
   "name": "python",
   "nbconvert_exporter": "python",
   "pygments_lexer": "ipython3",
   "version": "3.7.1"
  }
 },
 "nbformat": 4,
 "nbformat_minor": 2
}
